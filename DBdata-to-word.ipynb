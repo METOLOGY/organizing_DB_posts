{
 "cells": [
  {
   "cell_type": "code",
   "execution_count": 1,
   "metadata": {
    "collapsed": true
   },
   "outputs": [],
   "source": [
    "import json"
   ]
  },
  {
   "cell_type": "code",
   "execution_count": 2,
   "metadata": {
    "collapsed": false
   },
   "outputs": [],
   "source": [
    "raw_data = open('../datas-050912-050817.json')\n",
    "data_5y = json.loads(raw_data.read())['data']"
   ]
  },
  {
   "cell_type": "code",
   "execution_count": 6,
   "metadata": {
    "collapsed": true
   },
   "outputs": [],
   "source": [
    "one_post = data_5y[0][0]"
   ]
  },
  {
   "cell_type": "code",
   "execution_count": 8,
   "metadata": {
    "collapsed": false
   },
   "outputs": [
    {
     "data": {
      "text/plain": [
       "dict_keys(['message', 'updated_time', 'is_hidden', 'id', 'privacy', 'created_time', 'likes', 'actions', 'is_expired', 'type', 'from'])"
      ]
     },
     "execution_count": 8,
     "metadata": {},
     "output_type": "execute_result"
    }
   ],
   "source": [
    "one_post.keys()"
   ]
  },
  {
   "cell_type": "code",
   "execution_count": 3,
   "metadata": {
    "collapsed": false
   },
   "outputs": [],
   "source": [
    "# create post class for eaiser accessing.\n",
    "class Post(object):\n",
    "    def __init__(self, dicts):\n",
    "        for item, value in dicts.items():\n",
    "            if item == 'from':\n",
    "                setattr(self, 'from_user', value)\n",
    "            else:\n",
    "                setattr(self, item, value)"
   ]
  },
  {
   "cell_type": "code",
   "execution_count": 4,
   "metadata": {
    "collapsed": false
   },
   "outputs": [],
   "source": [
    "Posts = []\n",
    "for posts_per_data in data_5y:\n",
    "    for post_data in posts_per_data:\n",
    "        Posts.append(Post(post_data))"
   ]
  },
  {
   "cell_type": "code",
   "execution_count": 34,
   "metadata": {
    "collapsed": false
   },
   "outputs": [
    {
     "data": {
      "text/plain": [
       "list"
      ]
     },
     "execution_count": 34,
     "metadata": {},
     "output_type": "execute_result"
    }
   ],
   "source": [
    "len(Posts); type(Posts)"
   ]
  },
  {
   "cell_type": "code",
   "execution_count": 32,
   "metadata": {
    "collapsed": true
   },
   "outputs": [],
   "source": [
    "temp = Posts[0]"
   ]
  },
  {
   "cell_type": "code",
   "execution_count": 33,
   "metadata": {
    "collapsed": false
   },
   "outputs": [
    {
     "data": {
      "text/plain": [
       "'糖尿病互動網因主機更新及版式修改，目前運作還未完全正常，請各位稍為等候一下。'"
      ]
     },
     "execution_count": 33,
     "metadata": {},
     "output_type": "execute_result"
    }
   ],
   "source": [
    "temp.message"
   ]
  },
  {
   "cell_type": "code",
   "execution_count": 39,
   "metadata": {
    "collapsed": false
   },
   "outputs": [
    {
     "ename": "TypeError",
     "evalue": "unorderable types: dict() < dict()",
     "output_type": "error",
     "traceback": [
      "\u001b[0;31m---------------------------------------------------------------------------\u001b[0m",
      "\u001b[0;31mTypeError\u001b[0m                                 Traceback (most recent call last)",
      "\u001b[0;32m<ipython-input-39-6582f4579a73>\u001b[0m in \u001b[0;36m<module>\u001b[0;34m()\u001b[0m\n\u001b[1;32m      1\u001b[0m \u001b[0;32mfrom\u001b[0m \u001b[0moperator\u001b[0m \u001b[0;32mimport\u001b[0m \u001b[0mitemgetter\u001b[0m\u001b[0;34m,\u001b[0m \u001b[0mattrgetter\u001b[0m\u001b[0;34m\u001b[0m\u001b[0m\n\u001b[0;32m----> 2\u001b[0;31m \u001b[0msorted\u001b[0m\u001b[0;34m(\u001b[0m\u001b[0mPosts\u001b[0m\u001b[0;34m,\u001b[0m \u001b[0mkey\u001b[0m\u001b[0;34m=\u001b[0m\u001b[0mattrgetter\u001b[0m\u001b[0;34m(\u001b[0m\u001b[0;34m'from'\u001b[0m\u001b[0;34m)\u001b[0m\u001b[0;34m)\u001b[0m\u001b[0;34m\u001b[0m\u001b[0m\n\u001b[0m",
      "\u001b[0;31mTypeError\u001b[0m: unorderable types: dict() < dict()"
     ]
    }
   ],
   "source": []
  },
  {
   "cell_type": "code",
   "execution_count": 5,
   "metadata": {
    "collapsed": false
   },
   "outputs": [],
   "source": [
    "posts_sortby_comments = sorted(Posts, \n",
    "                               key=lambda post: len(post.comments['data'] if hasattr(post, 'comments') else ['']),\n",
    "                               reverse=True\n",
    "                              )"
   ]
  },
  {
   "cell_type": "code",
   "execution_count": 20,
   "metadata": {
    "collapsed": false
   },
   "outputs": [
    {
     "name": "stdout",
     "output_type": "stream",
     "text": [
      "我個人認為只是《想做》跟《不想做》，有沒有用心\b的問題而已吧\b:))\n",
      "帶身上囉，托運的話貨艙的低溫\b\b\b\b\b\b\b\b\b胰島素可能承受不了的 :)\b\b\b\b\b\n"
     ]
    }
   ],
   "source": [
    "from docx import Document\n",
    "doc = Document()\n",
    "comments_more_twenty = [x for x in posts_sortby_comments if hasattr(x, 'comments') if len(x.comments['data']) >= 20]\n",
    "\n",
    "for p in comments_more_twenty:\n",
    "    \n",
    "    if hasattr(p, 'message'):\n",
    "        doc.add_heading(p.message, level=2)\n",
    "        \n",
    "    if hasattr(p, 'link'):\n",
    "        doc.add_heading(p.link, level=2)\n",
    "        \n",
    "    doc.add_heading(p.from_user['name'] + ' ' + p.updated_time, level=3)\n",
    "    \n",
    "    if hasattr(p, 'comments'):\n",
    "        for x in p.comments['data']:\n",
    "            name = doc.add_paragraph(x['from']['name'])\n",
    "            name.style.font.bold = True\n",
    "            name.add_run('   ')\n",
    "            try:\n",
    "                name.add_run(x['message']).bold = False\n",
    "            except:\n",
    "                print(x['message'])\n",
    "\n",
    "    doc.add_paragraph('--------')\n",
    "    \n",
    "doc.save('五年糖尿病互動網社團訊息(照回文數排序).docx')"
   ]
  },
  {
   "cell_type": "code",
   "execution_count": 7,
   "metadata": {
    "collapsed": true
   },
   "outputs": [],
   "source": [
    "temp = posts_sortby_comments[0]"
   ]
  },
  {
   "cell_type": "code",
   "execution_count": 11,
   "metadata": {
    "collapsed": false
   },
   "outputs": [
    {
     "data": {
      "text/plain": [
       "'2012-09-10T15:24:30+0000'"
      ]
     },
     "execution_count": 11,
     "metadata": {},
     "output_type": "execute_result"
    }
   ],
   "source": [
    "temp.updated_time"
   ]
  },
  {
   "cell_type": "code",
   "execution_count": null,
   "metadata": {
    "collapsed": true
   },
   "outputs": [],
   "source": []
  },
  {
   "cell_type": "raw",
   "metadata": {
    "collapsed": true
   },
   "source": [
    "users = {}\n",
    "for post in total_post:\n",
    "    poster = post['from']\n",
    "    print(poster)\n",
    "    if poster['id'] not in users.keys():\n",
    "        users[poster['id']] = {\n",
    "            'name': poster['name'],\n",
    "            'post_count': 1,\n",
    "            'comment_count': 0\n",
    "        }\n",
    "    else:\n",
    "        user_data = users[poster['id']]\n",
    "        user_data['post_count'] += 1\n",
    "        \n",
    "    try:\n",
    "        comments = post['comments']['data']\n",
    "        for comment in comments:\n",
    "            commenter = comment['from']\n",
    "            if commenter['id'] not in users.keys():\n",
    "                users[commenter['id']] = {\n",
    "                    'name': commenter['name'],\n",
    "                    'post_count': 0,\n",
    "                    'comment_count': 1\n",
    "                }\n",
    "            else:\n",
    "                user_data = users[commenter['id']]\n",
    "                user_data['comment_count'] += 1\n",
    "    except KeyError:\n",
    "        print('no comment')"
   ]
  }
 ],
 "metadata": {
  "kernelspec": {
   "display_name": "Python 3",
   "language": "python",
   "name": "python3"
  },
  "language_info": {
   "codemirror_mode": {
    "name": "ipython",
    "version": 3
   },
   "file_extension": ".py",
   "mimetype": "text/x-python",
   "name": "python",
   "nbconvert_exporter": "python",
   "pygments_lexer": "ipython3",
   "version": "3.5.1"
  }
 },
 "nbformat": 4,
 "nbformat_minor": 0
}
